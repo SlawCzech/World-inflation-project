{
 "cells": [
  {
   "cell_type": "markdown",
   "source": [
    "First, let's upload the data to the dataframe."
   ],
   "metadata": {
    "collapsed": false
   }
  },
  {
   "cell_type": "code",
   "execution_count": 3,
   "outputs": [],
   "source": [
    "import pandas as pd"
   ],
   "metadata": {
    "collapsed": false
   }
  },
  {
   "cell_type": "code",
   "execution_count": 13,
   "outputs": [
    {
     "data": {
      "text/plain": "                  Country Name Country Code  \\\n0                        Aruba          ABW   \n1  Africa Eastern and Southern          AFE   \n2                  Afghanistan          AFG   \n3   Africa Western and Central          AFW   \n4                       Angola          AGO   \n\n                          Indicator Name  Indicator Code  1960  1961  1962  \\\n0  Inflation, consumer prices (annual %)  FP.CPI.TOTL.ZG   NaN   NaN   NaN   \n1  Inflation, consumer prices (annual %)  FP.CPI.TOTL.ZG   NaN   NaN   NaN   \n2  Inflation, consumer prices (annual %)  FP.CPI.TOTL.ZG   NaN   NaN   NaN   \n3  Inflation, consumer prices (annual %)  FP.CPI.TOTL.ZG   NaN   NaN   NaN   \n4  Inflation, consumer prices (annual %)  FP.CPI.TOTL.ZG   NaN   NaN   NaN   \n\n   1963  1964  1965  ...       2012      2013      2014      2015       2016  \\\n0   NaN   NaN   NaN  ...   0.627472 -2.372065  0.421441  0.474764  -0.931196   \n1   NaN   NaN   NaN  ...   9.158707  5.750981  5.370290  5.250171   6.571396   \n2   NaN   NaN   NaN  ...   6.441213  7.385772  4.673996 -0.661709   4.383892   \n3   NaN   NaN   NaN  ...   4.578375  2.439201  1.758052  2.130268   1.494564   \n4   NaN   NaN   NaN  ...  10.277905  8.777814  7.280387  9.150372  30.695313   \n\n        2017       2018       2019      2020      2021  \n0  -1.028282   3.626041   4.257462       NaN       NaN  \n1   6.399343   4.720811   4.120246  5.404815  7.240978  \n2   4.975952   0.626149   2.302373       NaN       NaN  \n3   1.764635   1.784050   1.758565  2.492522  3.925603  \n4  29.843587  19.628608  17.081215       NaN       NaN  \n\n[5 rows x 66 columns]",
      "text/html": "<div>\n<style scoped>\n    .dataframe tbody tr th:only-of-type {\n        vertical-align: middle;\n    }\n\n    .dataframe tbody tr th {\n        vertical-align: top;\n    }\n\n    .dataframe thead th {\n        text-align: right;\n    }\n</style>\n<table border=\"1\" class=\"dataframe\">\n  <thead>\n    <tr style=\"text-align: right;\">\n      <th></th>\n      <th>Country Name</th>\n      <th>Country Code</th>\n      <th>Indicator Name</th>\n      <th>Indicator Code</th>\n      <th>1960</th>\n      <th>1961</th>\n      <th>1962</th>\n      <th>1963</th>\n      <th>1964</th>\n      <th>1965</th>\n      <th>...</th>\n      <th>2012</th>\n      <th>2013</th>\n      <th>2014</th>\n      <th>2015</th>\n      <th>2016</th>\n      <th>2017</th>\n      <th>2018</th>\n      <th>2019</th>\n      <th>2020</th>\n      <th>2021</th>\n    </tr>\n  </thead>\n  <tbody>\n    <tr>\n      <th>0</th>\n      <td>Aruba</td>\n      <td>ABW</td>\n      <td>Inflation, consumer prices (annual %)</td>\n      <td>FP.CPI.TOTL.ZG</td>\n      <td>NaN</td>\n      <td>NaN</td>\n      <td>NaN</td>\n      <td>NaN</td>\n      <td>NaN</td>\n      <td>NaN</td>\n      <td>...</td>\n      <td>0.627472</td>\n      <td>-2.372065</td>\n      <td>0.421441</td>\n      <td>0.474764</td>\n      <td>-0.931196</td>\n      <td>-1.028282</td>\n      <td>3.626041</td>\n      <td>4.257462</td>\n      <td>NaN</td>\n      <td>NaN</td>\n    </tr>\n    <tr>\n      <th>1</th>\n      <td>Africa Eastern and Southern</td>\n      <td>AFE</td>\n      <td>Inflation, consumer prices (annual %)</td>\n      <td>FP.CPI.TOTL.ZG</td>\n      <td>NaN</td>\n      <td>NaN</td>\n      <td>NaN</td>\n      <td>NaN</td>\n      <td>NaN</td>\n      <td>NaN</td>\n      <td>...</td>\n      <td>9.158707</td>\n      <td>5.750981</td>\n      <td>5.370290</td>\n      <td>5.250171</td>\n      <td>6.571396</td>\n      <td>6.399343</td>\n      <td>4.720811</td>\n      <td>4.120246</td>\n      <td>5.404815</td>\n      <td>7.240978</td>\n    </tr>\n    <tr>\n      <th>2</th>\n      <td>Afghanistan</td>\n      <td>AFG</td>\n      <td>Inflation, consumer prices (annual %)</td>\n      <td>FP.CPI.TOTL.ZG</td>\n      <td>NaN</td>\n      <td>NaN</td>\n      <td>NaN</td>\n      <td>NaN</td>\n      <td>NaN</td>\n      <td>NaN</td>\n      <td>...</td>\n      <td>6.441213</td>\n      <td>7.385772</td>\n      <td>4.673996</td>\n      <td>-0.661709</td>\n      <td>4.383892</td>\n      <td>4.975952</td>\n      <td>0.626149</td>\n      <td>2.302373</td>\n      <td>NaN</td>\n      <td>NaN</td>\n    </tr>\n    <tr>\n      <th>3</th>\n      <td>Africa Western and Central</td>\n      <td>AFW</td>\n      <td>Inflation, consumer prices (annual %)</td>\n      <td>FP.CPI.TOTL.ZG</td>\n      <td>NaN</td>\n      <td>NaN</td>\n      <td>NaN</td>\n      <td>NaN</td>\n      <td>NaN</td>\n      <td>NaN</td>\n      <td>...</td>\n      <td>4.578375</td>\n      <td>2.439201</td>\n      <td>1.758052</td>\n      <td>2.130268</td>\n      <td>1.494564</td>\n      <td>1.764635</td>\n      <td>1.784050</td>\n      <td>1.758565</td>\n      <td>2.492522</td>\n      <td>3.925603</td>\n    </tr>\n    <tr>\n      <th>4</th>\n      <td>Angola</td>\n      <td>AGO</td>\n      <td>Inflation, consumer prices (annual %)</td>\n      <td>FP.CPI.TOTL.ZG</td>\n      <td>NaN</td>\n      <td>NaN</td>\n      <td>NaN</td>\n      <td>NaN</td>\n      <td>NaN</td>\n      <td>NaN</td>\n      <td>...</td>\n      <td>10.277905</td>\n      <td>8.777814</td>\n      <td>7.280387</td>\n      <td>9.150372</td>\n      <td>30.695313</td>\n      <td>29.843587</td>\n      <td>19.628608</td>\n      <td>17.081215</td>\n      <td>NaN</td>\n      <td>NaN</td>\n    </tr>\n  </tbody>\n</table>\n<p>5 rows × 66 columns</p>\n</div>"
     },
     "execution_count": 13,
     "metadata": {},
     "output_type": "execute_result"
    }
   ],
   "source": [
    "world_inflation = pd.read_csv('world_inflation/Data set for inflation.csv')\n",
    "world_inflation.head()"
   ],
   "metadata": {
    "collapsed": false
   }
  },
  {
   "cell_type": "markdown",
   "source": [
    "Now, let's see what kind of data we have. It seems that we have 266 observations with 66 features of which 62 refer to years."
   ],
   "metadata": {
    "collapsed": false
   }
  },
  {
   "cell_type": "code",
   "execution_count": 11,
   "outputs": [
    {
     "data": {
      "text/plain": "(266, 66)"
     },
     "execution_count": 11,
     "metadata": {},
     "output_type": "execute_result"
    }
   ],
   "source": [
    "world_inflation.shape"
   ],
   "metadata": {
    "collapsed": false
   }
  }
 ],
 "metadata": {
  "kernelspec": {
   "display_name": "Python 3",
   "language": "python",
   "name": "python3"
  },
  "language_info": {
   "codemirror_mode": {
    "name": "ipython",
    "version": 2
   },
   "file_extension": ".py",
   "mimetype": "text/x-python",
   "name": "python",
   "nbconvert_exporter": "python",
   "pygments_lexer": "ipython2",
   "version": "2.7.6"
  }
 },
 "nbformat": 4,
 "nbformat_minor": 0
}
