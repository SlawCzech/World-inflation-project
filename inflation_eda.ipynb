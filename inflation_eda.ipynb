{
 "cells": [
  {
   "cell_type": "markdown",
   "source": [
    "First, let's upload the data to the dataframe."
   ],
   "metadata": {
    "collapsed": false
   }
  },
  {
   "cell_type": "code",
   "execution_count": 1,
   "outputs": [],
   "source": [
    "import pandas as pd\n",
    "import matplotlib.pyplot as plt"
   ],
   "metadata": {
    "collapsed": false
   }
  },
  {
   "cell_type": "code",
   "execution_count": 2,
   "outputs": [
    {
     "data": {
      "text/plain": "                  Country Name Country Code  \\\n0                        Aruba          ABW   \n1  Africa Eastern and Southern          AFE   \n2                  Afghanistan          AFG   \n3   Africa Western and Central          AFW   \n4                       Angola          AGO   \n\n                          Indicator Name  Indicator Code  1960  1961  1962  \\\n0  Inflation, consumer prices (annual %)  FP.CPI.TOTL.ZG   NaN   NaN   NaN   \n1  Inflation, consumer prices (annual %)  FP.CPI.TOTL.ZG   NaN   NaN   NaN   \n2  Inflation, consumer prices (annual %)  FP.CPI.TOTL.ZG   NaN   NaN   NaN   \n3  Inflation, consumer prices (annual %)  FP.CPI.TOTL.ZG   NaN   NaN   NaN   \n4  Inflation, consumer prices (annual %)  FP.CPI.TOTL.ZG   NaN   NaN   NaN   \n\n   1963  1964  1965  ...       2012      2013      2014      2015       2016  \\\n0   NaN   NaN   NaN  ...   0.627472 -2.372065  0.421441  0.474764  -0.931196   \n1   NaN   NaN   NaN  ...   9.158707  5.750981  5.370290  5.250171   6.571396   \n2   NaN   NaN   NaN  ...   6.441213  7.385772  4.673996 -0.661709   4.383892   \n3   NaN   NaN   NaN  ...   4.578375  2.439201  1.758052  2.130268   1.494564   \n4   NaN   NaN   NaN  ...  10.277905  8.777814  7.280387  9.150372  30.695313   \n\n        2017       2018       2019      2020      2021  \n0  -1.028282   3.626041   4.257462       NaN       NaN  \n1   6.399343   4.720811   4.120246  5.404815  7.240978  \n2   4.975952   0.626149   2.302373       NaN       NaN  \n3   1.764635   1.784050   1.758565  2.492522  3.925603  \n4  29.843587  19.628608  17.081215       NaN       NaN  \n\n[5 rows x 66 columns]",
      "text/html": "<div>\n<style scoped>\n    .dataframe tbody tr th:only-of-type {\n        vertical-align: middle;\n    }\n\n    .dataframe tbody tr th {\n        vertical-align: top;\n    }\n\n    .dataframe thead th {\n        text-align: right;\n    }\n</style>\n<table border=\"1\" class=\"dataframe\">\n  <thead>\n    <tr style=\"text-align: right;\">\n      <th></th>\n      <th>Country Name</th>\n      <th>Country Code</th>\n      <th>Indicator Name</th>\n      <th>Indicator Code</th>\n      <th>1960</th>\n      <th>1961</th>\n      <th>1962</th>\n      <th>1963</th>\n      <th>1964</th>\n      <th>1965</th>\n      <th>...</th>\n      <th>2012</th>\n      <th>2013</th>\n      <th>2014</th>\n      <th>2015</th>\n      <th>2016</th>\n      <th>2017</th>\n      <th>2018</th>\n      <th>2019</th>\n      <th>2020</th>\n      <th>2021</th>\n    </tr>\n  </thead>\n  <tbody>\n    <tr>\n      <th>0</th>\n      <td>Aruba</td>\n      <td>ABW</td>\n      <td>Inflation, consumer prices (annual %)</td>\n      <td>FP.CPI.TOTL.ZG</td>\n      <td>NaN</td>\n      <td>NaN</td>\n      <td>NaN</td>\n      <td>NaN</td>\n      <td>NaN</td>\n      <td>NaN</td>\n      <td>...</td>\n      <td>0.627472</td>\n      <td>-2.372065</td>\n      <td>0.421441</td>\n      <td>0.474764</td>\n      <td>-0.931196</td>\n      <td>-1.028282</td>\n      <td>3.626041</td>\n      <td>4.257462</td>\n      <td>NaN</td>\n      <td>NaN</td>\n    </tr>\n    <tr>\n      <th>1</th>\n      <td>Africa Eastern and Southern</td>\n      <td>AFE</td>\n      <td>Inflation, consumer prices (annual %)</td>\n      <td>FP.CPI.TOTL.ZG</td>\n      <td>NaN</td>\n      <td>NaN</td>\n      <td>NaN</td>\n      <td>NaN</td>\n      <td>NaN</td>\n      <td>NaN</td>\n      <td>...</td>\n      <td>9.158707</td>\n      <td>5.750981</td>\n      <td>5.370290</td>\n      <td>5.250171</td>\n      <td>6.571396</td>\n      <td>6.399343</td>\n      <td>4.720811</td>\n      <td>4.120246</td>\n      <td>5.404815</td>\n      <td>7.240978</td>\n    </tr>\n    <tr>\n      <th>2</th>\n      <td>Afghanistan</td>\n      <td>AFG</td>\n      <td>Inflation, consumer prices (annual %)</td>\n      <td>FP.CPI.TOTL.ZG</td>\n      <td>NaN</td>\n      <td>NaN</td>\n      <td>NaN</td>\n      <td>NaN</td>\n      <td>NaN</td>\n      <td>NaN</td>\n      <td>...</td>\n      <td>6.441213</td>\n      <td>7.385772</td>\n      <td>4.673996</td>\n      <td>-0.661709</td>\n      <td>4.383892</td>\n      <td>4.975952</td>\n      <td>0.626149</td>\n      <td>2.302373</td>\n      <td>NaN</td>\n      <td>NaN</td>\n    </tr>\n    <tr>\n      <th>3</th>\n      <td>Africa Western and Central</td>\n      <td>AFW</td>\n      <td>Inflation, consumer prices (annual %)</td>\n      <td>FP.CPI.TOTL.ZG</td>\n      <td>NaN</td>\n      <td>NaN</td>\n      <td>NaN</td>\n      <td>NaN</td>\n      <td>NaN</td>\n      <td>NaN</td>\n      <td>...</td>\n      <td>4.578375</td>\n      <td>2.439201</td>\n      <td>1.758052</td>\n      <td>2.130268</td>\n      <td>1.494564</td>\n      <td>1.764635</td>\n      <td>1.784050</td>\n      <td>1.758565</td>\n      <td>2.492522</td>\n      <td>3.925603</td>\n    </tr>\n    <tr>\n      <th>4</th>\n      <td>Angola</td>\n      <td>AGO</td>\n      <td>Inflation, consumer prices (annual %)</td>\n      <td>FP.CPI.TOTL.ZG</td>\n      <td>NaN</td>\n      <td>NaN</td>\n      <td>NaN</td>\n      <td>NaN</td>\n      <td>NaN</td>\n      <td>NaN</td>\n      <td>...</td>\n      <td>10.277905</td>\n      <td>8.777814</td>\n      <td>7.280387</td>\n      <td>9.150372</td>\n      <td>30.695313</td>\n      <td>29.843587</td>\n      <td>19.628608</td>\n      <td>17.081215</td>\n      <td>NaN</td>\n      <td>NaN</td>\n    </tr>\n  </tbody>\n</table>\n<p>5 rows × 66 columns</p>\n</div>"
     },
     "execution_count": 2,
     "metadata": {},
     "output_type": "execute_result"
    }
   ],
   "source": [
    "world_inflation = pd.read_csv('world_inflation/Data set for inflation.csv')\n",
    "world_inflation.head()"
   ],
   "metadata": {
    "collapsed": false
   }
  },
  {
   "cell_type": "markdown",
   "source": [
    "We can see that we do not need columns \"Indicator Name\" and \"Indicator code\". These two columns are common to all observations and we already know that the data concerns annual inflation rate (CPI)."
   ],
   "metadata": {
    "collapsed": false
   }
  },
  {
   "cell_type": "code",
   "execution_count": 3,
   "outputs": [
    {
     "data": {
      "text/plain": "                  Country Name  1960  1961  1962  1963  1964  1965  1966  \\\n0                        Aruba   NaN   NaN   NaN   NaN   NaN   NaN   NaN   \n1  Africa Eastern and Southern   NaN   NaN   NaN   NaN   NaN   NaN   NaN   \n2                  Afghanistan   NaN   NaN   NaN   NaN   NaN   NaN   NaN   \n3   Africa Western and Central   NaN   NaN   NaN   NaN   NaN   NaN   NaN   \n4                       Angola   NaN   NaN   NaN   NaN   NaN   NaN   NaN   \n\n   1967  1968  ...       2012      2013      2014      2015       2016  \\\n0   NaN   NaN  ...   0.627472 -2.372065  0.421441  0.474764  -0.931196   \n1   NaN   NaN  ...   9.158707  5.750981  5.370290  5.250171   6.571396   \n2   NaN   NaN  ...   6.441213  7.385772  4.673996 -0.661709   4.383892   \n3   NaN   NaN  ...   4.578375  2.439201  1.758052  2.130268   1.494564   \n4   NaN   NaN  ...  10.277905  8.777814  7.280387  9.150372  30.695313   \n\n        2017       2018       2019      2020      2021  \n0  -1.028282   3.626041   4.257462       NaN       NaN  \n1   6.399343   4.720811   4.120246  5.404815  7.240978  \n2   4.975952   0.626149   2.302373       NaN       NaN  \n3   1.764635   1.784050   1.758565  2.492522  3.925603  \n4  29.843587  19.628608  17.081215       NaN       NaN  \n\n[5 rows x 63 columns]",
      "text/html": "<div>\n<style scoped>\n    .dataframe tbody tr th:only-of-type {\n        vertical-align: middle;\n    }\n\n    .dataframe tbody tr th {\n        vertical-align: top;\n    }\n\n    .dataframe thead th {\n        text-align: right;\n    }\n</style>\n<table border=\"1\" class=\"dataframe\">\n  <thead>\n    <tr style=\"text-align: right;\">\n      <th></th>\n      <th>Country Name</th>\n      <th>1960</th>\n      <th>1961</th>\n      <th>1962</th>\n      <th>1963</th>\n      <th>1964</th>\n      <th>1965</th>\n      <th>1966</th>\n      <th>1967</th>\n      <th>1968</th>\n      <th>...</th>\n      <th>2012</th>\n      <th>2013</th>\n      <th>2014</th>\n      <th>2015</th>\n      <th>2016</th>\n      <th>2017</th>\n      <th>2018</th>\n      <th>2019</th>\n      <th>2020</th>\n      <th>2021</th>\n    </tr>\n  </thead>\n  <tbody>\n    <tr>\n      <th>0</th>\n      <td>Aruba</td>\n      <td>NaN</td>\n      <td>NaN</td>\n      <td>NaN</td>\n      <td>NaN</td>\n      <td>NaN</td>\n      <td>NaN</td>\n      <td>NaN</td>\n      <td>NaN</td>\n      <td>NaN</td>\n      <td>...</td>\n      <td>0.627472</td>\n      <td>-2.372065</td>\n      <td>0.421441</td>\n      <td>0.474764</td>\n      <td>-0.931196</td>\n      <td>-1.028282</td>\n      <td>3.626041</td>\n      <td>4.257462</td>\n      <td>NaN</td>\n      <td>NaN</td>\n    </tr>\n    <tr>\n      <th>1</th>\n      <td>Africa Eastern and Southern</td>\n      <td>NaN</td>\n      <td>NaN</td>\n      <td>NaN</td>\n      <td>NaN</td>\n      <td>NaN</td>\n      <td>NaN</td>\n      <td>NaN</td>\n      <td>NaN</td>\n      <td>NaN</td>\n      <td>...</td>\n      <td>9.158707</td>\n      <td>5.750981</td>\n      <td>5.370290</td>\n      <td>5.250171</td>\n      <td>6.571396</td>\n      <td>6.399343</td>\n      <td>4.720811</td>\n      <td>4.120246</td>\n      <td>5.404815</td>\n      <td>7.240978</td>\n    </tr>\n    <tr>\n      <th>2</th>\n      <td>Afghanistan</td>\n      <td>NaN</td>\n      <td>NaN</td>\n      <td>NaN</td>\n      <td>NaN</td>\n      <td>NaN</td>\n      <td>NaN</td>\n      <td>NaN</td>\n      <td>NaN</td>\n      <td>NaN</td>\n      <td>...</td>\n      <td>6.441213</td>\n      <td>7.385772</td>\n      <td>4.673996</td>\n      <td>-0.661709</td>\n      <td>4.383892</td>\n      <td>4.975952</td>\n      <td>0.626149</td>\n      <td>2.302373</td>\n      <td>NaN</td>\n      <td>NaN</td>\n    </tr>\n    <tr>\n      <th>3</th>\n      <td>Africa Western and Central</td>\n      <td>NaN</td>\n      <td>NaN</td>\n      <td>NaN</td>\n      <td>NaN</td>\n      <td>NaN</td>\n      <td>NaN</td>\n      <td>NaN</td>\n      <td>NaN</td>\n      <td>NaN</td>\n      <td>...</td>\n      <td>4.578375</td>\n      <td>2.439201</td>\n      <td>1.758052</td>\n      <td>2.130268</td>\n      <td>1.494564</td>\n      <td>1.764635</td>\n      <td>1.784050</td>\n      <td>1.758565</td>\n      <td>2.492522</td>\n      <td>3.925603</td>\n    </tr>\n    <tr>\n      <th>4</th>\n      <td>Angola</td>\n      <td>NaN</td>\n      <td>NaN</td>\n      <td>NaN</td>\n      <td>NaN</td>\n      <td>NaN</td>\n      <td>NaN</td>\n      <td>NaN</td>\n      <td>NaN</td>\n      <td>NaN</td>\n      <td>...</td>\n      <td>10.277905</td>\n      <td>8.777814</td>\n      <td>7.280387</td>\n      <td>9.150372</td>\n      <td>30.695313</td>\n      <td>29.843587</td>\n      <td>19.628608</td>\n      <td>17.081215</td>\n      <td>NaN</td>\n      <td>NaN</td>\n    </tr>\n  </tbody>\n</table>\n<p>5 rows × 63 columns</p>\n</div>"
     },
     "execution_count": 3,
     "metadata": {},
     "output_type": "execute_result"
    }
   ],
   "source": [
    "world_inflation = world_inflation.drop(columns=[\"Indicator Name\", \"Indicator Code\", \"Country Code\"])\n",
    "world_inflation.head()"
   ],
   "metadata": {
    "collapsed": false
   }
  },
  {
   "cell_type": "markdown",
   "source": [
    "Now, let's see what kind of data we have. It seems that we have 266 observations with 66 features of which 62 refer to years 1960-2021."
   ],
   "metadata": {
    "collapsed": false
   }
  },
  {
   "cell_type": "code",
   "execution_count": 4,
   "outputs": [
    {
     "data": {
      "text/plain": "(266, 63)"
     },
     "execution_count": 4,
     "metadata": {},
     "output_type": "execute_result"
    }
   ],
   "source": [
    "world_inflation.shape"
   ],
   "metadata": {
    "collapsed": false
   }
  },
  {
   "cell_type": "markdown",
   "source": [
    "Finally, it would be smart to change names of two columns for easier handling. We will also set index to the column \"country\".\n"
   ],
   "metadata": {
    "collapsed": false
   }
  },
  {
   "cell_type": "code",
   "execution_count": 5,
   "outputs": [
    {
     "data": {
      "text/plain": "                             1960  1961  1962  1963  1964  1965  1966  1967  \\\ncountry                                                                       \nAruba                         NaN   NaN   NaN   NaN   NaN   NaN   NaN   NaN   \nAfrica Eastern and Southern   NaN   NaN   NaN   NaN   NaN   NaN   NaN   NaN   \nAfghanistan                   NaN   NaN   NaN   NaN   NaN   NaN   NaN   NaN   \nAfrica Western and Central    NaN   NaN   NaN   NaN   NaN   NaN   NaN   NaN   \nAngola                        NaN   NaN   NaN   NaN   NaN   NaN   NaN   NaN   \n\n                             1968  1969  ...       2012      2013      2014  \\\ncountry                                  ...                                  \nAruba                         NaN   NaN  ...   0.627472 -2.372065  0.421441   \nAfrica Eastern and Southern   NaN   NaN  ...   9.158707  5.750981  5.370290   \nAfghanistan                   NaN   NaN  ...   6.441213  7.385772  4.673996   \nAfrica Western and Central    NaN   NaN  ...   4.578375  2.439201  1.758052   \nAngola                        NaN   NaN  ...  10.277905  8.777814  7.280387   \n\n                                 2015       2016       2017       2018  \\\ncountry                                                                  \nAruba                        0.474764  -0.931196  -1.028282   3.626041   \nAfrica Eastern and Southern  5.250171   6.571396   6.399343   4.720811   \nAfghanistan                 -0.661709   4.383892   4.975952   0.626149   \nAfrica Western and Central   2.130268   1.494564   1.764635   1.784050   \nAngola                       9.150372  30.695313  29.843587  19.628608   \n\n                                  2019      2020      2021  \ncountry                                                     \nAruba                         4.257462       NaN       NaN  \nAfrica Eastern and Southern   4.120246  5.404815  7.240978  \nAfghanistan                   2.302373       NaN       NaN  \nAfrica Western and Central    1.758565  2.492522  3.925603  \nAngola                       17.081215       NaN       NaN  \n\n[5 rows x 62 columns]",
      "text/html": "<div>\n<style scoped>\n    .dataframe tbody tr th:only-of-type {\n        vertical-align: middle;\n    }\n\n    .dataframe tbody tr th {\n        vertical-align: top;\n    }\n\n    .dataframe thead th {\n        text-align: right;\n    }\n</style>\n<table border=\"1\" class=\"dataframe\">\n  <thead>\n    <tr style=\"text-align: right;\">\n      <th></th>\n      <th>1960</th>\n      <th>1961</th>\n      <th>1962</th>\n      <th>1963</th>\n      <th>1964</th>\n      <th>1965</th>\n      <th>1966</th>\n      <th>1967</th>\n      <th>1968</th>\n      <th>1969</th>\n      <th>...</th>\n      <th>2012</th>\n      <th>2013</th>\n      <th>2014</th>\n      <th>2015</th>\n      <th>2016</th>\n      <th>2017</th>\n      <th>2018</th>\n      <th>2019</th>\n      <th>2020</th>\n      <th>2021</th>\n    </tr>\n    <tr>\n      <th>country</th>\n      <th></th>\n      <th></th>\n      <th></th>\n      <th></th>\n      <th></th>\n      <th></th>\n      <th></th>\n      <th></th>\n      <th></th>\n      <th></th>\n      <th></th>\n      <th></th>\n      <th></th>\n      <th></th>\n      <th></th>\n      <th></th>\n      <th></th>\n      <th></th>\n      <th></th>\n      <th></th>\n      <th></th>\n    </tr>\n  </thead>\n  <tbody>\n    <tr>\n      <th>Aruba</th>\n      <td>NaN</td>\n      <td>NaN</td>\n      <td>NaN</td>\n      <td>NaN</td>\n      <td>NaN</td>\n      <td>NaN</td>\n      <td>NaN</td>\n      <td>NaN</td>\n      <td>NaN</td>\n      <td>NaN</td>\n      <td>...</td>\n      <td>0.627472</td>\n      <td>-2.372065</td>\n      <td>0.421441</td>\n      <td>0.474764</td>\n      <td>-0.931196</td>\n      <td>-1.028282</td>\n      <td>3.626041</td>\n      <td>4.257462</td>\n      <td>NaN</td>\n      <td>NaN</td>\n    </tr>\n    <tr>\n      <th>Africa Eastern and Southern</th>\n      <td>NaN</td>\n      <td>NaN</td>\n      <td>NaN</td>\n      <td>NaN</td>\n      <td>NaN</td>\n      <td>NaN</td>\n      <td>NaN</td>\n      <td>NaN</td>\n      <td>NaN</td>\n      <td>NaN</td>\n      <td>...</td>\n      <td>9.158707</td>\n      <td>5.750981</td>\n      <td>5.370290</td>\n      <td>5.250171</td>\n      <td>6.571396</td>\n      <td>6.399343</td>\n      <td>4.720811</td>\n      <td>4.120246</td>\n      <td>5.404815</td>\n      <td>7.240978</td>\n    </tr>\n    <tr>\n      <th>Afghanistan</th>\n      <td>NaN</td>\n      <td>NaN</td>\n      <td>NaN</td>\n      <td>NaN</td>\n      <td>NaN</td>\n      <td>NaN</td>\n      <td>NaN</td>\n      <td>NaN</td>\n      <td>NaN</td>\n      <td>NaN</td>\n      <td>...</td>\n      <td>6.441213</td>\n      <td>7.385772</td>\n      <td>4.673996</td>\n      <td>-0.661709</td>\n      <td>4.383892</td>\n      <td>4.975952</td>\n      <td>0.626149</td>\n      <td>2.302373</td>\n      <td>NaN</td>\n      <td>NaN</td>\n    </tr>\n    <tr>\n      <th>Africa Western and Central</th>\n      <td>NaN</td>\n      <td>NaN</td>\n      <td>NaN</td>\n      <td>NaN</td>\n      <td>NaN</td>\n      <td>NaN</td>\n      <td>NaN</td>\n      <td>NaN</td>\n      <td>NaN</td>\n      <td>NaN</td>\n      <td>...</td>\n      <td>4.578375</td>\n      <td>2.439201</td>\n      <td>1.758052</td>\n      <td>2.130268</td>\n      <td>1.494564</td>\n      <td>1.764635</td>\n      <td>1.784050</td>\n      <td>1.758565</td>\n      <td>2.492522</td>\n      <td>3.925603</td>\n    </tr>\n    <tr>\n      <th>Angola</th>\n      <td>NaN</td>\n      <td>NaN</td>\n      <td>NaN</td>\n      <td>NaN</td>\n      <td>NaN</td>\n      <td>NaN</td>\n      <td>NaN</td>\n      <td>NaN</td>\n      <td>NaN</td>\n      <td>NaN</td>\n      <td>...</td>\n      <td>10.277905</td>\n      <td>8.777814</td>\n      <td>7.280387</td>\n      <td>9.150372</td>\n      <td>30.695313</td>\n      <td>29.843587</td>\n      <td>19.628608</td>\n      <td>17.081215</td>\n      <td>NaN</td>\n      <td>NaN</td>\n    </tr>\n  </tbody>\n</table>\n<p>5 rows × 62 columns</p>\n</div>"
     },
     "execution_count": 5,
     "metadata": {},
     "output_type": "execute_result"
    }
   ],
   "source": [
    "world_inflation = world_inflation.rename(columns={'Country Name': 'country'})\n",
    "world_inflation = world_inflation.set_index(\"country\")\n",
    "world_inflation.head()"
   ],
   "metadata": {
    "collapsed": false
   }
  },
  {
   "cell_type": "markdown",
   "source": [
    "However, it seems that lots of data is missing, i.e. we have limited observations of inflation in particular countries depending on year. For example, in 1960 we have just 70 non-null cells and in 2020 we have 213 non-null cells."
   ],
   "metadata": {
    "collapsed": false
   }
  },
  {
   "cell_type": "code",
   "execution_count": 6,
   "outputs": [
    {
     "name": "stdout",
     "output_type": "stream",
     "text": [
      "<class 'pandas.core.frame.DataFrame'>\n",
      "Index: 266 entries, Aruba to Zimbabwe\n",
      "Data columns (total 62 columns):\n",
      " #   Column  Non-Null Count  Dtype  \n",
      "---  ------  --------------  -----  \n",
      " 0   1960    70 non-null     float64\n",
      " 1   1961    72 non-null     float64\n",
      " 2   1962    74 non-null     float64\n",
      " 3   1963    75 non-null     float64\n",
      " 4   1964    79 non-null     float64\n",
      " 5   1965    86 non-null     float64\n",
      " 6   1966    93 non-null     float64\n",
      " 7   1967    100 non-null    float64\n",
      " 8   1968    101 non-null    float64\n",
      " 9   1969    102 non-null    float64\n",
      " 10  1970    107 non-null    float64\n",
      " 11  1971    111 non-null    float64\n",
      " 12  1972    114 non-null    float64\n",
      " 13  1973    117 non-null    float64\n",
      " 14  1974    120 non-null    float64\n",
      " 15  1975    124 non-null    float64\n",
      " 16  1976    125 non-null    float64\n",
      " 17  1977    129 non-null    float64\n",
      " 18  1978    129 non-null    float64\n",
      " 19  1979    124 non-null    float64\n",
      " 20  1980    131 non-null    float64\n",
      " 21  1981    146 non-null    float64\n",
      " 22  1982    147 non-null    float64\n",
      " 23  1983    147 non-null    float64\n",
      " 24  1984    151 non-null    float64\n",
      " 25  1985    152 non-null    float64\n",
      " 26  1986    163 non-null    float64\n",
      " 27  1987    169 non-null    float64\n",
      " 28  1988    169 non-null    float64\n",
      " 29  1989    172 non-null    float64\n",
      " 30  1990    172 non-null    float64\n",
      " 31  1991    178 non-null    float64\n",
      " 32  1992    186 non-null    float64\n",
      " 33  1993    192 non-null    float64\n",
      " 34  1994    197 non-null    float64\n",
      " 35  1995    201 non-null    float64\n",
      " 36  1996    204 non-null    float64\n",
      " 37  1997    204 non-null    float64\n",
      " 38  1998    204 non-null    float64\n",
      " 39  1999    206 non-null    float64\n",
      " 40  2000    210 non-null    float64\n",
      " 41  2001    215 non-null    float64\n",
      " 42  2002    217 non-null    float64\n",
      " 43  2003    220 non-null    float64\n",
      " 44  2004    221 non-null    float64\n",
      " 45  2005    224 non-null    float64\n",
      " 46  2006    227 non-null    float64\n",
      " 47  2007    229 non-null    float64\n",
      " 48  2008    230 non-null    float64\n",
      " 49  2009    233 non-null    float64\n",
      " 50  2010    235 non-null    float64\n",
      " 51  2011    238 non-null    float64\n",
      " 52  2012    237 non-null    float64\n",
      " 53  2013    235 non-null    float64\n",
      " 54  2014    233 non-null    float64\n",
      " 55  2015    232 non-null    float64\n",
      " 56  2016    232 non-null    float64\n",
      " 57  2017    227 non-null    float64\n",
      " 58  2018    224 non-null    float64\n",
      " 59  2019    222 non-null    float64\n",
      " 60  2020    213 non-null    float64\n",
      " 61  2021    192 non-null    float64\n",
      "dtypes: float64(62)\n",
      "memory usage: 130.9+ KB\n"
     ]
    }
   ],
   "source": [
    "world_inflation.info()"
   ],
   "metadata": {
    "collapsed": false
   }
  },
  {
   "cell_type": "markdown",
   "source": [
    "We can see that the number of observations increased in time, but this still leaves us with the problem of missing values. Basically, you can do three things with missing values: keep the missing data, drop the missing data or fill the missing data. In our case the best strategy is to keep the missing data, as we would be left with very limited data if we dropped columns or rows with missing data and it would make no sense to fill values for inflation, which is a distinct and sometimes volatile variable. However, we need to keep in mind that lots of data is missing."
   ],
   "metadata": {
    "collapsed": false
   }
  },
  {
   "cell_type": "markdown",
   "source": [
    "To finish up this introductory part, we can have a look at basic statistical summary for our data."
   ],
   "metadata": {
    "collapsed": false
   }
  },
  {
   "cell_type": "code",
   "execution_count": 7,
   "outputs": [
    {
     "data": {
      "text/plain": "            1960       1961        1962        1963        1964        1965  \\\ncount  70.000000  72.000000   74.000000   75.000000   79.000000   86.000000   \nmean    3.554980   3.491289    4.630783    5.768657    6.263870    8.192841   \nstd     6.795697   4.508248   15.209955   17.049591   13.749261   33.376181   \nmin    -5.030042  -3.900000   -3.846154   -2.694655   -4.535654   -3.878976   \n25%     0.871370   1.468978    1.147323    1.695327    1.870349    1.940405   \n50%     1.945749   2.102977    2.669962    2.876322    3.328408    3.410026   \n75%     4.037155   3.601606    4.614353    4.997767    4.822426    4.938170   \nmax    39.590444  22.747264  131.397850  145.910781  108.994709  306.763110   \n\n              1966        1967        1968        1969  ...        2012  \\\ncount    93.000000  100.000000  101.000000  102.000000  ...  237.000000   \nmean     17.765764    5.469524    6.309716    4.446334  ...    5.499223   \nstd     117.536433   14.150802   18.309690    4.140570  ...    6.521095   \nmin      -1.361868   -8.422486  -10.033895   -4.339051  ...   -3.045863   \n25%       2.479008    1.564937    1.588785    2.347005  ...    2.577182   \n50%       3.815659    3.020244    3.161937    3.388412  ...    3.852160   \n75%       6.951872    4.500319    4.697428    5.811237  ...    6.314745   \nmax    1136.254112  106.000000  128.843042   21.763295  ...   59.219736   \n\n             2013        2014        2015        2016        2017        2018  \\\ncount  235.000000  233.000000  232.000000  232.000000  227.000000  224.000000   \nmean     4.031436    3.612610    3.516273    5.891873    4.594103    3.971099   \nstd      5.051750    5.600188    9.659254   30.205721   13.055816    7.484516   \nmin     -4.294873   -1.509245   -3.749145   -3.078218   -1.537100   -2.814698   \n25%      1.461883    0.906798    0.305200    0.388838    1.429107    1.659275   \n50%      2.767897    2.559749    1.548692    1.652140    2.380236    2.527344   \n75%      5.273786    4.625551    4.031250    4.171390    4.436118    3.961816   \nmax     40.639428   62.168650  121.738085  379.999586  187.851630   83.501529   \n\n             2019        2020        2021  \ncount  222.000000  213.000000  192.000000  \nmean     4.589566    6.696483    7.829945  \nstd     18.529245   39.906358   30.515852  \nmin     -3.233389   -2.595243   -0.772844  \n25%      1.114597    0.574163    2.333678  \n50%      2.216776    2.002412    3.789169  \n75%      3.101341    3.681813    5.329709  \nmax    255.304991  557.201817  382.815998  \n\n[8 rows x 62 columns]",
      "text/html": "<div>\n<style scoped>\n    .dataframe tbody tr th:only-of-type {\n        vertical-align: middle;\n    }\n\n    .dataframe tbody tr th {\n        vertical-align: top;\n    }\n\n    .dataframe thead th {\n        text-align: right;\n    }\n</style>\n<table border=\"1\" class=\"dataframe\">\n  <thead>\n    <tr style=\"text-align: right;\">\n      <th></th>\n      <th>1960</th>\n      <th>1961</th>\n      <th>1962</th>\n      <th>1963</th>\n      <th>1964</th>\n      <th>1965</th>\n      <th>1966</th>\n      <th>1967</th>\n      <th>1968</th>\n      <th>1969</th>\n      <th>...</th>\n      <th>2012</th>\n      <th>2013</th>\n      <th>2014</th>\n      <th>2015</th>\n      <th>2016</th>\n      <th>2017</th>\n      <th>2018</th>\n      <th>2019</th>\n      <th>2020</th>\n      <th>2021</th>\n    </tr>\n  </thead>\n  <tbody>\n    <tr>\n      <th>count</th>\n      <td>70.000000</td>\n      <td>72.000000</td>\n      <td>74.000000</td>\n      <td>75.000000</td>\n      <td>79.000000</td>\n      <td>86.000000</td>\n      <td>93.000000</td>\n      <td>100.000000</td>\n      <td>101.000000</td>\n      <td>102.000000</td>\n      <td>...</td>\n      <td>237.000000</td>\n      <td>235.000000</td>\n      <td>233.000000</td>\n      <td>232.000000</td>\n      <td>232.000000</td>\n      <td>227.000000</td>\n      <td>224.000000</td>\n      <td>222.000000</td>\n      <td>213.000000</td>\n      <td>192.000000</td>\n    </tr>\n    <tr>\n      <th>mean</th>\n      <td>3.554980</td>\n      <td>3.491289</td>\n      <td>4.630783</td>\n      <td>5.768657</td>\n      <td>6.263870</td>\n      <td>8.192841</td>\n      <td>17.765764</td>\n      <td>5.469524</td>\n      <td>6.309716</td>\n      <td>4.446334</td>\n      <td>...</td>\n      <td>5.499223</td>\n      <td>4.031436</td>\n      <td>3.612610</td>\n      <td>3.516273</td>\n      <td>5.891873</td>\n      <td>4.594103</td>\n      <td>3.971099</td>\n      <td>4.589566</td>\n      <td>6.696483</td>\n      <td>7.829945</td>\n    </tr>\n    <tr>\n      <th>std</th>\n      <td>6.795697</td>\n      <td>4.508248</td>\n      <td>15.209955</td>\n      <td>17.049591</td>\n      <td>13.749261</td>\n      <td>33.376181</td>\n      <td>117.536433</td>\n      <td>14.150802</td>\n      <td>18.309690</td>\n      <td>4.140570</td>\n      <td>...</td>\n      <td>6.521095</td>\n      <td>5.051750</td>\n      <td>5.600188</td>\n      <td>9.659254</td>\n      <td>30.205721</td>\n      <td>13.055816</td>\n      <td>7.484516</td>\n      <td>18.529245</td>\n      <td>39.906358</td>\n      <td>30.515852</td>\n    </tr>\n    <tr>\n      <th>min</th>\n      <td>-5.030042</td>\n      <td>-3.900000</td>\n      <td>-3.846154</td>\n      <td>-2.694655</td>\n      <td>-4.535654</td>\n      <td>-3.878976</td>\n      <td>-1.361868</td>\n      <td>-8.422486</td>\n      <td>-10.033895</td>\n      <td>-4.339051</td>\n      <td>...</td>\n      <td>-3.045863</td>\n      <td>-4.294873</td>\n      <td>-1.509245</td>\n      <td>-3.749145</td>\n      <td>-3.078218</td>\n      <td>-1.537100</td>\n      <td>-2.814698</td>\n      <td>-3.233389</td>\n      <td>-2.595243</td>\n      <td>-0.772844</td>\n    </tr>\n    <tr>\n      <th>25%</th>\n      <td>0.871370</td>\n      <td>1.468978</td>\n      <td>1.147323</td>\n      <td>1.695327</td>\n      <td>1.870349</td>\n      <td>1.940405</td>\n      <td>2.479008</td>\n      <td>1.564937</td>\n      <td>1.588785</td>\n      <td>2.347005</td>\n      <td>...</td>\n      <td>2.577182</td>\n      <td>1.461883</td>\n      <td>0.906798</td>\n      <td>0.305200</td>\n      <td>0.388838</td>\n      <td>1.429107</td>\n      <td>1.659275</td>\n      <td>1.114597</td>\n      <td>0.574163</td>\n      <td>2.333678</td>\n    </tr>\n    <tr>\n      <th>50%</th>\n      <td>1.945749</td>\n      <td>2.102977</td>\n      <td>2.669962</td>\n      <td>2.876322</td>\n      <td>3.328408</td>\n      <td>3.410026</td>\n      <td>3.815659</td>\n      <td>3.020244</td>\n      <td>3.161937</td>\n      <td>3.388412</td>\n      <td>...</td>\n      <td>3.852160</td>\n      <td>2.767897</td>\n      <td>2.559749</td>\n      <td>1.548692</td>\n      <td>1.652140</td>\n      <td>2.380236</td>\n      <td>2.527344</td>\n      <td>2.216776</td>\n      <td>2.002412</td>\n      <td>3.789169</td>\n    </tr>\n    <tr>\n      <th>75%</th>\n      <td>4.037155</td>\n      <td>3.601606</td>\n      <td>4.614353</td>\n      <td>4.997767</td>\n      <td>4.822426</td>\n      <td>4.938170</td>\n      <td>6.951872</td>\n      <td>4.500319</td>\n      <td>4.697428</td>\n      <td>5.811237</td>\n      <td>...</td>\n      <td>6.314745</td>\n      <td>5.273786</td>\n      <td>4.625551</td>\n      <td>4.031250</td>\n      <td>4.171390</td>\n      <td>4.436118</td>\n      <td>3.961816</td>\n      <td>3.101341</td>\n      <td>3.681813</td>\n      <td>5.329709</td>\n    </tr>\n    <tr>\n      <th>max</th>\n      <td>39.590444</td>\n      <td>22.747264</td>\n      <td>131.397850</td>\n      <td>145.910781</td>\n      <td>108.994709</td>\n      <td>306.763110</td>\n      <td>1136.254112</td>\n      <td>106.000000</td>\n      <td>128.843042</td>\n      <td>21.763295</td>\n      <td>...</td>\n      <td>59.219736</td>\n      <td>40.639428</td>\n      <td>62.168650</td>\n      <td>121.738085</td>\n      <td>379.999586</td>\n      <td>187.851630</td>\n      <td>83.501529</td>\n      <td>255.304991</td>\n      <td>557.201817</td>\n      <td>382.815998</td>\n    </tr>\n  </tbody>\n</table>\n<p>8 rows × 62 columns</p>\n</div>"
     },
     "execution_count": 7,
     "metadata": {},
     "output_type": "execute_result"
    }
   ],
   "source": [
    "world_inflation.describe()"
   ],
   "metadata": {
    "collapsed": false
   }
  },
  {
   "cell_type": "markdown",
   "source": [
    "Now, you might have noticed that the dataframe consist not only of data for countries, but also for geographical regions or groups of countries. Let's get rid of the data we do not need and divide the data into more consistent tables. We will create two dataframes: one with countries only and one with geographical locations (sections of continents)."
   ],
   "metadata": {
    "collapsed": false
   }
  },
  {
   "cell_type": "code",
   "execution_count": 8,
   "outputs": [],
   "source": [
    "geographical_locations = [\"Africa Eastern and Southern\",\n",
    "                          \"Africa Western and Central\",\n",
    "                          \"Central Europe and the Baltics\",\n",
    "                          \"East Asia & Pacific\",\n",
    "                          \"Europe & Central Asia\",\n",
    "                          \"Latin America & Caribbean\",\n",
    "                          \"Middle East & North Africa\",\n",
    "                          \"North America\",\n",
    "                          \"Pacific island small states\",\n",
    "                          \"Sub-Saharan Africa\",\n",
    "                          \"World\"\n",
    "                          ]\n",
    "\n",
    "redundant = [\"Arab World\", \"Caribbean small states\", \"Early-demographic dividend\", \"Euro area\", \"European Union\",\n",
    "             \"Fragile and conflict affected situations\", \"Micronesia, Fed. Sts.\", \"High income\",\n",
    "             \"Heavily indebted poor countries (HIPC)\", \"IBRD only\", \"IDA & IBRD total\", \"IDA total\", \"IDA blend\",\n",
    "             \"IDA only\", \"Not classified\", \"Low income\", \"Least developed countries: UN classification\",\n",
    "             \"Lower middle income\", \"Low & middle income\", \"Late-demographic dividend\", \"Middle income\",\n",
    "             \"OECD members\", \"Other small states\", \"Pre-demographic dividend\", \"Post-demographic dividend\",\n",
    "             \"Small states\", \"East Asia & Pacific (IDA & IBRD countries)\",\n",
    "             \"Europe & Central Asia (IDA & IBRD countries)\",\n",
    "             \"Latin America & the Caribbean (IDA & IBRD countries)\",\n",
    "             \"Middle East & North Africa (IDA & IBRD countries)\", \"South Asia (IDA & IBRD)\",\n",
    "             \"Sub-Saharan Africa (IDA & IBRD countries)\", \"Upper middle income\",\n",
    "             \"East Asia & Pacific (excluding high income)\",\n",
    "             \"Europe & Central Asia (excluding high income)\",\n",
    "             \"Latin America & Caribbean (excluding high income)\",\n",
    "             \"Middle East & North Africa (excluding high income)\",\n",
    "             \"Sub-Saharan Africa (excluding high income)\",\n",
    "             ]"
   ],
   "metadata": {
    "collapsed": false
   }
  },
  {
   "cell_type": "code",
   "execution_count": 9,
   "outputs": [
    {
     "data": {
      "text/plain": "             1960  1961  1962  1963  1964  1965  1966  1967  1968  1969  ...  \\\ncountry                                                                  ...   \nAruba         NaN   NaN   NaN   NaN   NaN   NaN   NaN   NaN   NaN   NaN  ...   \nAfghanistan   NaN   NaN   NaN   NaN   NaN   NaN   NaN   NaN   NaN   NaN  ...   \nAngola        NaN   NaN   NaN   NaN   NaN   NaN   NaN   NaN   NaN   NaN  ...   \nAlbania       NaN   NaN   NaN   NaN   NaN   NaN   NaN   NaN   NaN   NaN  ...   \nAndorra       NaN   NaN   NaN   NaN   NaN   NaN   NaN   NaN   NaN   NaN  ...   \n\n                  2012      2013      2014      2015       2016       2017  \\\ncountry                                                                      \nAruba         0.627472 -2.372065  0.421441  0.474764  -0.931196  -1.028282   \nAfghanistan   6.441213  7.385772  4.673996 -0.661709   4.383892   4.975952   \nAngola       10.277905  8.777814  7.280387  9.150372  30.695313  29.843587   \nAlbania       2.031593  1.937621  1.625865  3.501208  -0.367317   2.060598   \nAndorra            NaN       NaN       NaN       NaN        NaN        NaN   \n\n                  2018       2019      2020      2021  \ncountry                                                \nAruba         3.626041   4.257462       NaN       NaN  \nAfghanistan   0.626149   2.302373       NaN       NaN  \nAngola       19.628608  17.081215       NaN       NaN  \nAlbania       2.028060   1.411091  1.620887  2.041472  \nAndorra            NaN        NaN       NaN       NaN  \n\n[5 rows x 62 columns]",
      "text/html": "<div>\n<style scoped>\n    .dataframe tbody tr th:only-of-type {\n        vertical-align: middle;\n    }\n\n    .dataframe tbody tr th {\n        vertical-align: top;\n    }\n\n    .dataframe thead th {\n        text-align: right;\n    }\n</style>\n<table border=\"1\" class=\"dataframe\">\n  <thead>\n    <tr style=\"text-align: right;\">\n      <th></th>\n      <th>1960</th>\n      <th>1961</th>\n      <th>1962</th>\n      <th>1963</th>\n      <th>1964</th>\n      <th>1965</th>\n      <th>1966</th>\n      <th>1967</th>\n      <th>1968</th>\n      <th>1969</th>\n      <th>...</th>\n      <th>2012</th>\n      <th>2013</th>\n      <th>2014</th>\n      <th>2015</th>\n      <th>2016</th>\n      <th>2017</th>\n      <th>2018</th>\n      <th>2019</th>\n      <th>2020</th>\n      <th>2021</th>\n    </tr>\n    <tr>\n      <th>country</th>\n      <th></th>\n      <th></th>\n      <th></th>\n      <th></th>\n      <th></th>\n      <th></th>\n      <th></th>\n      <th></th>\n      <th></th>\n      <th></th>\n      <th></th>\n      <th></th>\n      <th></th>\n      <th></th>\n      <th></th>\n      <th></th>\n      <th></th>\n      <th></th>\n      <th></th>\n      <th></th>\n      <th></th>\n    </tr>\n  </thead>\n  <tbody>\n    <tr>\n      <th>Aruba</th>\n      <td>NaN</td>\n      <td>NaN</td>\n      <td>NaN</td>\n      <td>NaN</td>\n      <td>NaN</td>\n      <td>NaN</td>\n      <td>NaN</td>\n      <td>NaN</td>\n      <td>NaN</td>\n      <td>NaN</td>\n      <td>...</td>\n      <td>0.627472</td>\n      <td>-2.372065</td>\n      <td>0.421441</td>\n      <td>0.474764</td>\n      <td>-0.931196</td>\n      <td>-1.028282</td>\n      <td>3.626041</td>\n      <td>4.257462</td>\n      <td>NaN</td>\n      <td>NaN</td>\n    </tr>\n    <tr>\n      <th>Afghanistan</th>\n      <td>NaN</td>\n      <td>NaN</td>\n      <td>NaN</td>\n      <td>NaN</td>\n      <td>NaN</td>\n      <td>NaN</td>\n      <td>NaN</td>\n      <td>NaN</td>\n      <td>NaN</td>\n      <td>NaN</td>\n      <td>...</td>\n      <td>6.441213</td>\n      <td>7.385772</td>\n      <td>4.673996</td>\n      <td>-0.661709</td>\n      <td>4.383892</td>\n      <td>4.975952</td>\n      <td>0.626149</td>\n      <td>2.302373</td>\n      <td>NaN</td>\n      <td>NaN</td>\n    </tr>\n    <tr>\n      <th>Angola</th>\n      <td>NaN</td>\n      <td>NaN</td>\n      <td>NaN</td>\n      <td>NaN</td>\n      <td>NaN</td>\n      <td>NaN</td>\n      <td>NaN</td>\n      <td>NaN</td>\n      <td>NaN</td>\n      <td>NaN</td>\n      <td>...</td>\n      <td>10.277905</td>\n      <td>8.777814</td>\n      <td>7.280387</td>\n      <td>9.150372</td>\n      <td>30.695313</td>\n      <td>29.843587</td>\n      <td>19.628608</td>\n      <td>17.081215</td>\n      <td>NaN</td>\n      <td>NaN</td>\n    </tr>\n    <tr>\n      <th>Albania</th>\n      <td>NaN</td>\n      <td>NaN</td>\n      <td>NaN</td>\n      <td>NaN</td>\n      <td>NaN</td>\n      <td>NaN</td>\n      <td>NaN</td>\n      <td>NaN</td>\n      <td>NaN</td>\n      <td>NaN</td>\n      <td>...</td>\n      <td>2.031593</td>\n      <td>1.937621</td>\n      <td>1.625865</td>\n      <td>3.501208</td>\n      <td>-0.367317</td>\n      <td>2.060598</td>\n      <td>2.028060</td>\n      <td>1.411091</td>\n      <td>1.620887</td>\n      <td>2.041472</td>\n    </tr>\n    <tr>\n      <th>Andorra</th>\n      <td>NaN</td>\n      <td>NaN</td>\n      <td>NaN</td>\n      <td>NaN</td>\n      <td>NaN</td>\n      <td>NaN</td>\n      <td>NaN</td>\n      <td>NaN</td>\n      <td>NaN</td>\n      <td>NaN</td>\n      <td>...</td>\n      <td>NaN</td>\n      <td>NaN</td>\n      <td>NaN</td>\n      <td>NaN</td>\n      <td>NaN</td>\n      <td>NaN</td>\n      <td>NaN</td>\n      <td>NaN</td>\n      <td>NaN</td>\n      <td>NaN</td>\n    </tr>\n  </tbody>\n</table>\n<p>5 rows × 62 columns</p>\n</div>"
     },
     "execution_count": 9,
     "metadata": {},
     "output_type": "execute_result"
    }
   ],
   "source": [
    "countries_inflation = world_inflation.drop(axis=0, index=redundant)\n",
    "countries_inflation = countries_inflation.drop(axis=0, index=geographical_locations)\n",
    "countries_inflation.head()"
   ],
   "metadata": {
    "collapsed": false
   }
  },
  {
   "cell_type": "code",
   "execution_count": 10,
   "outputs": [
    {
     "data": {
      "text/plain": "                                1960  1961  1962  1963  1964  1965  1966  \\\ncountry                                                                    \nAfrica Eastern and Southern      NaN   NaN   NaN   NaN   NaN   NaN   NaN   \nAfrica Western and Central       NaN   NaN   NaN   NaN   NaN   NaN   NaN   \nCentral Europe and the Baltics   NaN   NaN   NaN   NaN   NaN   NaN   NaN   \nEast Asia & Pacific              NaN   NaN   NaN   NaN   NaN   NaN   NaN   \nEurope & Central Asia            NaN   NaN   NaN   NaN   NaN   NaN   NaN   \n\n                                1967  1968  1969  ...      2012      2013  \\\ncountry                                           ...                       \nAfrica Eastern and Southern      NaN   NaN   NaN  ...  9.158707  5.750981   \nAfrica Western and Central       NaN   NaN   NaN  ...  4.578375  2.439201   \nCentral Europe and the Baltics   NaN   NaN   NaN  ...  3.334923  1.438298   \nEast Asia & Pacific              NaN   NaN   NaN  ...  2.974608  2.582688   \nEurope & Central Asia            NaN   NaN   NaN  ...  2.770890  1.733620   \n\n                                    2014      2015      2016      2017  \\\ncountry                                                                  \nAfrica Eastern and Southern     5.370290  5.250171  6.571396  6.399343   \nAfrica Western and Central      1.758052  2.130268  1.494564  1.764635   \nCentral Europe and the Baltics  0.053821 -0.464499 -0.055000  2.075936   \nEast Asia & Pacific             2.510876  0.795280  1.276991  1.800342   \nEurope & Central Asia           0.592256  0.338706  0.336676  1.875101   \n\n                                    2018      2019      2020      2021  \ncountry                                                                 \nAfrica Eastern and Southern     4.720811  4.120246  5.404815  7.240978  \nAfrica Western and Central      1.784050  1.758565  2.492522  3.925603  \nCentral Europe and the Baltics  2.534454  2.664561  1.672441  3.839845  \nEast Asia & Pacific             2.312603  1.627244  0.846906  2.410193  \nEurope & Central Asia           2.013220  1.763736  1.199984  3.146288  \n\n[5 rows x 62 columns]",
      "text/html": "<div>\n<style scoped>\n    .dataframe tbody tr th:only-of-type {\n        vertical-align: middle;\n    }\n\n    .dataframe tbody tr th {\n        vertical-align: top;\n    }\n\n    .dataframe thead th {\n        text-align: right;\n    }\n</style>\n<table border=\"1\" class=\"dataframe\">\n  <thead>\n    <tr style=\"text-align: right;\">\n      <th></th>\n      <th>1960</th>\n      <th>1961</th>\n      <th>1962</th>\n      <th>1963</th>\n      <th>1964</th>\n      <th>1965</th>\n      <th>1966</th>\n      <th>1967</th>\n      <th>1968</th>\n      <th>1969</th>\n      <th>...</th>\n      <th>2012</th>\n      <th>2013</th>\n      <th>2014</th>\n      <th>2015</th>\n      <th>2016</th>\n      <th>2017</th>\n      <th>2018</th>\n      <th>2019</th>\n      <th>2020</th>\n      <th>2021</th>\n    </tr>\n    <tr>\n      <th>country</th>\n      <th></th>\n      <th></th>\n      <th></th>\n      <th></th>\n      <th></th>\n      <th></th>\n      <th></th>\n      <th></th>\n      <th></th>\n      <th></th>\n      <th></th>\n      <th></th>\n      <th></th>\n      <th></th>\n      <th></th>\n      <th></th>\n      <th></th>\n      <th></th>\n      <th></th>\n      <th></th>\n      <th></th>\n    </tr>\n  </thead>\n  <tbody>\n    <tr>\n      <th>Africa Eastern and Southern</th>\n      <td>NaN</td>\n      <td>NaN</td>\n      <td>NaN</td>\n      <td>NaN</td>\n      <td>NaN</td>\n      <td>NaN</td>\n      <td>NaN</td>\n      <td>NaN</td>\n      <td>NaN</td>\n      <td>NaN</td>\n      <td>...</td>\n      <td>9.158707</td>\n      <td>5.750981</td>\n      <td>5.370290</td>\n      <td>5.250171</td>\n      <td>6.571396</td>\n      <td>6.399343</td>\n      <td>4.720811</td>\n      <td>4.120246</td>\n      <td>5.404815</td>\n      <td>7.240978</td>\n    </tr>\n    <tr>\n      <th>Africa Western and Central</th>\n      <td>NaN</td>\n      <td>NaN</td>\n      <td>NaN</td>\n      <td>NaN</td>\n      <td>NaN</td>\n      <td>NaN</td>\n      <td>NaN</td>\n      <td>NaN</td>\n      <td>NaN</td>\n      <td>NaN</td>\n      <td>...</td>\n      <td>4.578375</td>\n      <td>2.439201</td>\n      <td>1.758052</td>\n      <td>2.130268</td>\n      <td>1.494564</td>\n      <td>1.764635</td>\n      <td>1.784050</td>\n      <td>1.758565</td>\n      <td>2.492522</td>\n      <td>3.925603</td>\n    </tr>\n    <tr>\n      <th>Central Europe and the Baltics</th>\n      <td>NaN</td>\n      <td>NaN</td>\n      <td>NaN</td>\n      <td>NaN</td>\n      <td>NaN</td>\n      <td>NaN</td>\n      <td>NaN</td>\n      <td>NaN</td>\n      <td>NaN</td>\n      <td>NaN</td>\n      <td>...</td>\n      <td>3.334923</td>\n      <td>1.438298</td>\n      <td>0.053821</td>\n      <td>-0.464499</td>\n      <td>-0.055000</td>\n      <td>2.075936</td>\n      <td>2.534454</td>\n      <td>2.664561</td>\n      <td>1.672441</td>\n      <td>3.839845</td>\n    </tr>\n    <tr>\n      <th>East Asia &amp; Pacific</th>\n      <td>NaN</td>\n      <td>NaN</td>\n      <td>NaN</td>\n      <td>NaN</td>\n      <td>NaN</td>\n      <td>NaN</td>\n      <td>NaN</td>\n      <td>NaN</td>\n      <td>NaN</td>\n      <td>NaN</td>\n      <td>...</td>\n      <td>2.974608</td>\n      <td>2.582688</td>\n      <td>2.510876</td>\n      <td>0.795280</td>\n      <td>1.276991</td>\n      <td>1.800342</td>\n      <td>2.312603</td>\n      <td>1.627244</td>\n      <td>0.846906</td>\n      <td>2.410193</td>\n    </tr>\n    <tr>\n      <th>Europe &amp; Central Asia</th>\n      <td>NaN</td>\n      <td>NaN</td>\n      <td>NaN</td>\n      <td>NaN</td>\n      <td>NaN</td>\n      <td>NaN</td>\n      <td>NaN</td>\n      <td>NaN</td>\n      <td>NaN</td>\n      <td>NaN</td>\n      <td>...</td>\n      <td>2.770890</td>\n      <td>1.733620</td>\n      <td>0.592256</td>\n      <td>0.338706</td>\n      <td>0.336676</td>\n      <td>1.875101</td>\n      <td>2.013220</td>\n      <td>1.763736</td>\n      <td>1.199984</td>\n      <td>3.146288</td>\n    </tr>\n  </tbody>\n</table>\n<p>5 rows × 62 columns</p>\n</div>"
     },
     "execution_count": 10,
     "metadata": {},
     "output_type": "execute_result"
    }
   ],
   "source": [
    "continents_inflation = world_inflation.loc[world_inflation.index.isin(geographical_locations)]\n",
    "continents_inflation.head()"
   ],
   "metadata": {
    "collapsed": false
   }
  },
  {
   "cell_type": "markdown",
   "source": [
    "Now that we have our two dataframes let's choose one country (Poland) as an example. We will also drop empty values for years 1960-1970.\n"
   ],
   "metadata": {
    "collapsed": false
   }
  },
  {
   "cell_type": "code",
   "execution_count": 11,
   "outputs": [
    {
     "data": {
      "text/plain": "1971    1.100000\n1972   -0.098912\n1973    2.475248\n1974    7.053140\n1975    2.256318\nName: Poland, dtype: float64"
     },
     "execution_count": 11,
     "metadata": {},
     "output_type": "execute_result"
    }
   ],
   "source": [
    "poland = countries_inflation.loc[\"Poland\"]\n",
    "poland = poland.dropna()\n",
    "poland.head()"
   ],
   "metadata": {
    "collapsed": false
   }
  },
  {
   "cell_type": "markdown",
   "source": [
    "Let's visualize Polish inflation between 1971-2021."
   ],
   "metadata": {
    "collapsed": false
   }
  },
  {
   "cell_type": "code",
   "execution_count": 19,
   "outputs": [
    {
     "ename": "KeyError",
     "evalue": "False",
     "output_type": "error",
     "traceback": [
      "\u001B[0;31m---------------------------------------------------------------------------\u001B[0m",
      "\u001B[0;31mKeyError\u001B[0m                                  Traceback (most recent call last)",
      "File \u001B[0;32m~/molin/venv/lib64/python3.11/site-packages/pandas/core/indexes/base.py:3802\u001B[0m, in \u001B[0;36mIndex.get_loc\u001B[0;34m(self, key, method, tolerance)\u001B[0m\n\u001B[1;32m   3801\u001B[0m \u001B[38;5;28;01mtry\u001B[39;00m:\n\u001B[0;32m-> 3802\u001B[0m     \u001B[38;5;28;01mreturn\u001B[39;00m \u001B[38;5;28;43mself\u001B[39;49m\u001B[38;5;241;43m.\u001B[39;49m\u001B[43m_engine\u001B[49m\u001B[38;5;241;43m.\u001B[39;49m\u001B[43mget_loc\u001B[49m\u001B[43m(\u001B[49m\u001B[43mcasted_key\u001B[49m\u001B[43m)\u001B[49m\n\u001B[1;32m   3803\u001B[0m \u001B[38;5;28;01mexcept\u001B[39;00m \u001B[38;5;167;01mKeyError\u001B[39;00m \u001B[38;5;28;01mas\u001B[39;00m err:\n",
      "File \u001B[0;32m~/molin/venv/lib64/python3.11/site-packages/pandas/_libs/index.pyx:138\u001B[0m, in \u001B[0;36mpandas._libs.index.IndexEngine.get_loc\u001B[0;34m()\u001B[0m\n",
      "File \u001B[0;32m~/molin/venv/lib64/python3.11/site-packages/pandas/_libs/index.pyx:165\u001B[0m, in \u001B[0;36mpandas._libs.index.IndexEngine.get_loc\u001B[0;34m()\u001B[0m\n",
      "File \u001B[0;32mpandas/_libs/hashtable_class_helper.pxi:5745\u001B[0m, in \u001B[0;36mpandas._libs.hashtable.PyObjectHashTable.get_item\u001B[0;34m()\u001B[0m\n",
      "File \u001B[0;32mpandas/_libs/hashtable_class_helper.pxi:5753\u001B[0m, in \u001B[0;36mpandas._libs.hashtable.PyObjectHashTable.get_item\u001B[0;34m()\u001B[0m\n",
      "\u001B[0;31mKeyError\u001B[0m: False",
      "\nThe above exception was the direct cause of the following exception:\n",
      "\u001B[0;31mKeyError\u001B[0m                                  Traceback (most recent call last)",
      "Cell \u001B[0;32mIn[19], line 1\u001B[0m\n\u001B[0;32m----> 1\u001B[0m \u001B[43mcountries_inflation\u001B[49m\u001B[43m[\u001B[49m\u001B[38;5;124;43m'\u001B[39;49m\u001B[38;5;124;43mcountry\u001B[39;49m\u001B[38;5;124;43m'\u001B[39;49m\u001B[38;5;241;43m==\u001B[39;49m\u001B[38;5;124;43m'\u001B[39;49m\u001B[38;5;124;43mPoland\u001B[39;49m\u001B[38;5;124;43m'\u001B[39;49m\u001B[43m]\u001B[49m\n",
      "File \u001B[0;32m~/molin/venv/lib64/python3.11/site-packages/pandas/core/frame.py:3807\u001B[0m, in \u001B[0;36mDataFrame.__getitem__\u001B[0;34m(self, key)\u001B[0m\n\u001B[1;32m   3805\u001B[0m \u001B[38;5;28;01mif\u001B[39;00m \u001B[38;5;28mself\u001B[39m\u001B[38;5;241m.\u001B[39mcolumns\u001B[38;5;241m.\u001B[39mnlevels \u001B[38;5;241m>\u001B[39m \u001B[38;5;241m1\u001B[39m:\n\u001B[1;32m   3806\u001B[0m     \u001B[38;5;28;01mreturn\u001B[39;00m \u001B[38;5;28mself\u001B[39m\u001B[38;5;241m.\u001B[39m_getitem_multilevel(key)\n\u001B[0;32m-> 3807\u001B[0m indexer \u001B[38;5;241m=\u001B[39m \u001B[38;5;28;43mself\u001B[39;49m\u001B[38;5;241;43m.\u001B[39;49m\u001B[43mcolumns\u001B[49m\u001B[38;5;241;43m.\u001B[39;49m\u001B[43mget_loc\u001B[49m\u001B[43m(\u001B[49m\u001B[43mkey\u001B[49m\u001B[43m)\u001B[49m\n\u001B[1;32m   3808\u001B[0m \u001B[38;5;28;01mif\u001B[39;00m is_integer(indexer):\n\u001B[1;32m   3809\u001B[0m     indexer \u001B[38;5;241m=\u001B[39m [indexer]\n",
      "File \u001B[0;32m~/molin/venv/lib64/python3.11/site-packages/pandas/core/indexes/base.py:3804\u001B[0m, in \u001B[0;36mIndex.get_loc\u001B[0;34m(self, key, method, tolerance)\u001B[0m\n\u001B[1;32m   3802\u001B[0m     \u001B[38;5;28;01mreturn\u001B[39;00m \u001B[38;5;28mself\u001B[39m\u001B[38;5;241m.\u001B[39m_engine\u001B[38;5;241m.\u001B[39mget_loc(casted_key)\n\u001B[1;32m   3803\u001B[0m \u001B[38;5;28;01mexcept\u001B[39;00m \u001B[38;5;167;01mKeyError\u001B[39;00m \u001B[38;5;28;01mas\u001B[39;00m err:\n\u001B[0;32m-> 3804\u001B[0m     \u001B[38;5;28;01mraise\u001B[39;00m \u001B[38;5;167;01mKeyError\u001B[39;00m(key) \u001B[38;5;28;01mfrom\u001B[39;00m \u001B[38;5;21;01merr\u001B[39;00m\n\u001B[1;32m   3805\u001B[0m \u001B[38;5;28;01mexcept\u001B[39;00m \u001B[38;5;167;01mTypeError\u001B[39;00m:\n\u001B[1;32m   3806\u001B[0m     \u001B[38;5;66;03m# If we have a listlike key, _check_indexing_error will raise\u001B[39;00m\n\u001B[1;32m   3807\u001B[0m     \u001B[38;5;66;03m#  InvalidIndexError. Otherwise we fall through and re-raise\u001B[39;00m\n\u001B[1;32m   3808\u001B[0m     \u001B[38;5;66;03m#  the TypeError.\u001B[39;00m\n\u001B[1;32m   3809\u001B[0m     \u001B[38;5;28mself\u001B[39m\u001B[38;5;241m.\u001B[39m_check_indexing_error(key)\n",
      "\u001B[0;31mKeyError\u001B[0m: False"
     ]
    }
   ],
   "source": [
    "countries_inflation['country'=='Poland']"
   ],
   "metadata": {
    "collapsed": false
   }
  }
 ],
 "metadata": {
  "kernelspec": {
   "display_name": "Python 3",
   "language": "python",
   "name": "python3"
  },
  "language_info": {
   "codemirror_mode": {
    "name": "ipython",
    "version": 2
   },
   "file_extension": ".py",
   "mimetype": "text/x-python",
   "name": "python",
   "nbconvert_exporter": "python",
   "pygments_lexer": "ipython2",
   "version": "2.7.6"
  }
 },
 "nbformat": 4,
 "nbformat_minor": 0
}
